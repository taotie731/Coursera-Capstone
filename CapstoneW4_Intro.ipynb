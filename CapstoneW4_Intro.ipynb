{
 "cells": [
  {
   "cell_type": "markdown",
   "metadata": {},
   "source": [
    "# Introduction"
   ]
  },
  {
   "cell_type": "markdown",
   "metadata": {},
   "source": [
    "## Problem Definition"
   ]
  },
  {
   "cell_type": "markdown",
   "metadata": {},
   "source": [
    "In this project, I would like to address the problem of finding the perfect places to open a restaurant and an office for a startup.\n",
    "\n",
    "### Problem 1: Open a new restuarant\n",
    "\n",
    "I want to open a new restuarant in New York. I think the best place for a new restuarant is where other restaurants are. Of course there will strong competition but on the other hand, this place will have the most customers during lunch/diner time as it is a famous place for food.\n",
    "\n",
    "I will use the venue data from FourSquare API to explore which areas have the most restaurants. These areas should be the ideal places for a new restuarant.\n",
    "\n",
    "### Problem 2: Set up a new office\n",
    "\n",
    "I want to set up an office for my business in New York. The ideal place for my business is the business centres in New York.\n",
    "\n",
    "I will use FourSqaure API to check where has the most office buildings. These places should be the ideal places to set up offices for startup"
   ]
  },
  {
   "cell_type": "code",
   "execution_count": null,
   "metadata": {},
   "outputs": [],
   "source": []
  }
 ],
 "metadata": {
  "kernelspec": {
   "display_name": "Python",
   "language": "python",
   "name": "conda-env-python-py"
  },
  "language_info": {
   "codemirror_mode": {
    "name": "ipython",
    "version": 3
   },
   "file_extension": ".py",
   "mimetype": "text/x-python",
   "name": "python",
   "nbconvert_exporter": "python",
   "pygments_lexer": "ipython3",
   "version": "3.6.12"
  }
 },
 "nbformat": 4,
 "nbformat_minor": 4
}
